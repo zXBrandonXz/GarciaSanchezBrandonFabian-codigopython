{
 "cells": [
  {
   "cell_type": "code",
   "execution_count": 1,
   "id": "3356136c",
   "metadata": {},
   "outputs": [
    {
     "data": {
      "text/plain": [
       "5.0"
      ]
     },
     "execution_count": 1,
     "metadata": {},
     "output_type": "execute_result"
    }
   ],
   "source": [
    "#Garcia Sanchez Brandon Fabian - 1951 - Sistemas\n",
    "import numpy as np\n",
    "a = np.array([1,2,3], float)\n",
    "b = np.array([0,1,1], float)\n",
    "np.dot(b, a)"
   ]
  },
  {
   "cell_type": "code",
   "execution_count": 2,
   "id": "57ef76c8",
   "metadata": {},
   "outputs": [
    {
     "data": {
      "text/plain": [
       "5.0"
      ]
     },
     "execution_count": 2,
     "metadata": {},
     "output_type": "execute_result"
    }
   ],
   "source": [
    "a.dot(b)"
   ]
  },
  {
   "cell_type": "code",
   "execution_count": 5,
   "id": "8a05ae9b",
   "metadata": {},
   "outputs": [
    {
     "name": "stdout",
     "output_type": "stream",
     "text": [
      "[[5. 2.]\n",
      " [4. 8.]] \n",
      " ------------\n",
      "[[2. 4.]\n",
      " [5. 3.]] \n",
      " ------------\n"
     ]
    }
   ],
   "source": [
    "a = np.array([[5, 2], [4, 8]], float)\n",
    "b = np.array([[2, 4], [5, 3]], float)\n",
    "print(a, \"\\n ------------\")\n",
    "print(b, \"\\n ------------\")"
   ]
  },
  {
   "cell_type": "code",
   "execution_count": 6,
   "id": "1cf0c848",
   "metadata": {},
   "outputs": [
    {
     "data": {
      "text/plain": [
       "array([[20., 26.],\n",
       "       [48., 40.]])"
      ]
     },
     "execution_count": 6,
     "metadata": {},
     "output_type": "execute_result"
    }
   ],
   "source": [
    "np.dot(a, b)"
   ]
  },
  {
   "cell_type": "code",
   "execution_count": 7,
   "id": "69074dc7",
   "metadata": {},
   "outputs": [
    {
     "data": {
      "text/plain": [
       "array([[20., 26.],\n",
       "       [48., 40.]])"
      ]
     },
     "execution_count": 7,
     "metadata": {},
     "output_type": "execute_result"
    }
   ],
   "source": [
    "a @ b"
   ]
  },
  {
   "cell_type": "code",
   "execution_count": 8,
   "id": "9cd32dbd",
   "metadata": {},
   "outputs": [
    {
     "name": "stdout",
     "output_type": "stream",
     "text": [
      "[2. 3. 5.] \n",
      " ------------\n",
      "[[0. 1. 4.]\n",
      " [5. 2. 3.]\n",
      " [1. 4. 8.]] \n",
      " ------------\n"
     ]
    }
   ],
   "source": [
    "a = np.array([[0,1,4], [5,2,3], [1,4,8]], float)\n",
    "b = np.array([2,3,5], float)\n",
    "print(b, \"\\n ------------\")\n",
    "print(a, \"\\n ------------\")"
   ]
  },
  {
   "cell_type": "code",
   "execution_count": 9,
   "id": "61c9248b",
   "metadata": {},
   "outputs": [
    {
     "data": {
      "text/plain": [
       "array([23., 31., 54.])"
      ]
     },
     "execution_count": 9,
     "metadata": {},
     "output_type": "execute_result"
    }
   ],
   "source": [
    "np.dot(a, b)"
   ]
  },
  {
   "cell_type": "code",
   "execution_count": 11,
   "id": "a975cded",
   "metadata": {},
   "outputs": [
    {
     "data": {
      "text/plain": [
       "array([23., 31., 54.])"
      ]
     },
     "execution_count": 11,
     "metadata": {},
     "output_type": "execute_result"
    }
   ],
   "source": [
    "a @ b"
   ]
  },
  {
   "cell_type": "code",
   "execution_count": 13,
   "id": "c9e58ecd",
   "metadata": {},
   "outputs": [
    {
     "name": "stdout",
     "output_type": "stream",
     "text": [
      "[23. 31. 54.]\n"
     ]
    }
   ],
   "source": [
    "print(np.matmul(a,b))"
   ]
  },
  {
   "cell_type": "code",
   "execution_count": 15,
   "id": "aabadeb9",
   "metadata": {},
   "outputs": [
    {
     "name": "stdout",
     "output_type": "stream",
     "text": [
      "[[8 5]\n",
      " [3 4]] \n",
      " --------------\n"
     ]
    },
    {
     "data": {
      "text/plain": [
       "17.0"
      ]
     },
     "execution_count": 15,
     "metadata": {},
     "output_type": "execute_result"
    }
   ],
   "source": [
    "a = np.array([[8,5], [3,4]])\n",
    "print(a, \"\\n --------------\")\n",
    "np.linalg.det(a)"
   ]
  },
  {
   "cell_type": "code",
   "execution_count": 17,
   "id": "8c1092db",
   "metadata": {},
   "outputs": [
    {
     "name": "stdout",
     "output_type": "stream",
     "text": [
      "[10.35889894  1.64110106] \n",
      " ----------------\n",
      "[[ 0.90440309 -0.61810602]\n",
      " [ 0.4266791   0.78609474]] \n",
      " ----------------\n"
     ]
    }
   ],
   "source": [
    "vals, vecs = np.linalg.eig(a)\n",
    "print(vals, \"\\n ----------------\")\n",
    "print(vecs, \"\\n ----------------\")"
   ]
  }
 ],
 "metadata": {
  "kernelspec": {
   "display_name": "Python 3",
   "language": "python",
   "name": "python3"
  },
  "language_info": {
   "codemirror_mode": {
    "name": "ipython",
    "version": 3
   },
   "file_extension": ".py",
   "mimetype": "text/x-python",
   "name": "python",
   "nbconvert_exporter": "python",
   "pygments_lexer": "ipython3",
   "version": "3.8.8"
  }
 },
 "nbformat": 4,
 "nbformat_minor": 5
}
