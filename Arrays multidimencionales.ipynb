{
 "cells": [
  {
   "cell_type": "code",
   "execution_count": 1,
   "id": "94aa045f",
   "metadata": {},
   "outputs": [],
   "source": [
    "#Garcia Sanchez Brandon Fabian - 1951 - Sistemas\n",
    "import numpy as np "
   ]
  },
  {
   "cell_type": "code",
   "execution_count": 2,
   "id": "056c707f",
   "metadata": {},
   "outputs": [],
   "source": [
    "arreglo = np.array([0,1,2,3,4,5])"
   ]
  },
  {
   "cell_type": "code",
   "execution_count": 3,
   "id": "8f49260d",
   "metadata": {},
   "outputs": [
    {
     "data": {
      "text/plain": [
       "(array([0, 1, 2, 3, 4, 5]), numpy.ndarray)"
      ]
     },
     "execution_count": 3,
     "metadata": {},
     "output_type": "execute_result"
    }
   ],
   "source": [
    "arreglo, type(arreglo)"
   ]
  },
  {
   "cell_type": "code",
   "execution_count": 4,
   "id": "7469505c",
   "metadata": {},
   "outputs": [],
   "source": [
    "notas = [16,17,14,17,19,15]\n",
    "ar_notas = np.array(notas, dtype = float)"
   ]
  },
  {
   "cell_type": "code",
   "execution_count": 5,
   "id": "01cd2e21",
   "metadata": {},
   "outputs": [
    {
     "data": {
      "text/plain": [
       "(array([16., 17., 14., 17., 19., 15.]), numpy.float64)"
      ]
     },
     "execution_count": 5,
     "metadata": {},
     "output_type": "execute_result"
    }
   ],
   "source": [
    "ar_notas, type(ar_notas[0])"
   ]
  },
  {
   "cell_type": "code",
   "execution_count": 6,
   "id": "62831d52",
   "metadata": {},
   "outputs": [
    {
     "data": {
      "text/plain": [
       "array([[ 0,  1,  2,  3,  4,  5],\n",
       "       [16, 17, 14, 17, 19, 15]])"
      ]
     },
     "execution_count": 6,
     "metadata": {},
     "output_type": "execute_result"
    }
   ],
   "source": [
    "ar_notas_todas = np.array(([0,1,2,3,4,5],notas))\n",
    "ar_notas_todas"
   ]
  },
  {
   "cell_type": "code",
   "execution_count": 7,
   "id": "15fdc27b",
   "metadata": {},
   "outputs": [
    {
     "name": "stdout",
     "output_type": "stream",
     "text": [
      "2\n",
      "1\n"
     ]
    }
   ],
   "source": [
    "print(ar_notas_todas.ndim)\n",
    "print(ar_notas.ndim)"
   ]
  },
  {
   "cell_type": "code",
   "execution_count": 8,
   "id": "f30ed706",
   "metadata": {},
   "outputs": [
    {
     "name": "stdout",
     "output_type": "stream",
     "text": [
      "(2, 6)\n",
      "(6,)\n"
     ]
    }
   ],
   "source": [
    "print(ar_notas_todas.shape)\n",
    "print(ar_notas.shape)"
   ]
  },
  {
   "cell_type": "code",
   "execution_count": 9,
   "id": "99671d72",
   "metadata": {},
   "outputs": [
    {
     "name": "stdout",
     "output_type": "stream",
     "text": [
      "[[0. 0. 0.]\n",
      " [0. 0. 0.]]\n"
     ]
    }
   ],
   "source": [
    "arr = np.zeros((2,3), dtype=float)\n",
    "print(arr)"
   ]
  },
  {
   "cell_type": "code",
   "execution_count": 10,
   "id": "91d50d83",
   "metadata": {},
   "outputs": [
    {
     "name": "stdout",
     "output_type": "stream",
     "text": [
      "[[1. 1. 1. 1.]\n",
      " [1. 1. 1. 1.]\n",
      " [1. 1. 1. 1.]]\n"
     ]
    }
   ],
   "source": [
    "ar2 = np.ones((3,4), dtype=float)\n",
    "print(ar2)"
   ]
  },
  {
   "cell_type": "code",
   "execution_count": 12,
   "id": "643e56f8",
   "metadata": {},
   "outputs": [
    {
     "name": "stdout",
     "output_type": "stream",
     "text": [
      "[[1. 0. 0. 0.]\n",
      " [0. 1. 0. 0.]\n",
      " [0. 0. 1. 0.]\n",
      " [0. 0. 0. 1.]]\n"
     ]
    }
   ],
   "source": [
    "ar4 = np.identity((4), dtype=float)\n",
    "print(ar4)"
   ]
  },
  {
   "cell_type": "code",
   "execution_count": 13,
   "id": "5a895792",
   "metadata": {},
   "outputs": [
    {
     "name": "stdout",
     "output_type": "stream",
     "text": [
      "[[1. 0. 0. 0.]\n",
      " [0. 1. 0. 0.]\n",
      " [0. 0. 1. 0.]\n",
      " [0. 0. 0. 1.]]\n"
     ]
    }
   ],
   "source": [
    "ar6 = np.eye((4), dtype=float)\n",
    "print(ar6)"
   ]
  },
  {
   "cell_type": "code",
   "execution_count": 14,
   "id": "e6cda8ed",
   "metadata": {},
   "outputs": [
    {
     "name": "stdout",
     "output_type": "stream",
     "text": [
      "[1 2 3 4 5 6 7 8]\n"
     ]
    }
   ],
   "source": [
    "ar5 = np.arange(1,9)\n",
    "print(ar5)"
   ]
  }
 ],
 "metadata": {
  "kernelspec": {
   "display_name": "Python 3",
   "language": "python",
   "name": "python3"
  },
  "language_info": {
   "codemirror_mode": {
    "name": "ipython",
    "version": 3
   },
   "file_extension": ".py",
   "mimetype": "text/x-python",
   "name": "python",
   "nbconvert_exporter": "python",
   "pygments_lexer": "ipython3",
   "version": "3.8.8"
  }
 },
 "nbformat": 4,
 "nbformat_minor": 5
}
